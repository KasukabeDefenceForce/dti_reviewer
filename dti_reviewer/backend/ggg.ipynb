{
 "cells": [
  {
   "cell_type": "code",
   "execution_count": 1,
   "id": "9299e07d",
   "metadata": {},
   "outputs": [],
   "source": [
    "from similarity_engine import SimilarityEngineOrcid\n",
    "import numpy as np"
   ]
  },
  {
   "cell_type": "code",
   "execution_count": null,
   "id": "b2726896",
   "metadata": {},
   "outputs": [],
   "source": [
    "# 0. Instantiate your engine once (so it loads the index, vectorizer, etc.)\n",
    "engine = SimilarityEngineOrcid()\n",
    "\n",
    "# 1. Now benchmark using that instance:\n",
    "import numpy as np\n",
    "import time\n",
    "\n",
    "queries = [\"stellar mass\", \"supernovae\"]\n",
    "\n",
    "orig_times = []\n",
    "faiss_times = []\n",
    "\n",
    "for q in queries:\n",
    "    # time original\n",
    "    t0 = time.perf_counter()\n",
    "    orig_idx = engine.query_experts(q)  \n",
    "    dt_orig = time.perf_counter() - t0\n",
    "    orig_times.append(dt_orig)\n",
    "\n",
    "    # time FAISS\n",
    "    t1 = time.perf_counter()\n",
    "    faiss_idx = engine.query_experts_with_faiss(q)\n",
    "    dt_faiss = time.perf_counter() - t1\n",
    "    faiss_times.append(dt_faiss)\n",
    "\n",
    "    print(f\"Query '{q}': original = {dt_orig:.6f}s, FAISS = {dt_faiss:.6f}s\")\n",
    "\n",
    "# summary\n",
    "print(\"\\nAverage timings:\")\n",
    "print(f\"  Original avg time: {np.mean(orig_times):.6f} s\")\n",
    "print(f\"  FAISS    avg time: {np.mean(faiss_times):.6f} s\\n\")\n",
    "\n",
    "print(\"Sample top-5 (idx, score):\")\n",
    "print(\"  Original:\", list(zip(orig_idx[:5])))\n",
    "print(\"  FAISS:   \", list(zip(faiss_idx[:5])))\n"
   ]
  },
  {
   "cell_type": "code",
   "execution_count": null,
   "id": "56831229",
   "metadata": {},
   "outputs": [],
   "source": []
  }
 ],
 "metadata": {
  "kernelspec": {
   "display_name": "deepreviewer",
   "language": "python",
   "name": "python3"
  },
  "language_info": {
   "codemirror_mode": {
    "name": "ipython",
    "version": 3
   },
   "file_extension": ".py",
   "mimetype": "text/x-python",
   "name": "python",
   "nbconvert_exporter": "python",
   "pygments_lexer": "ipython3",
   "version": "3.13.3"
  }
 },
 "nbformat": 4,
 "nbformat_minor": 5
}
